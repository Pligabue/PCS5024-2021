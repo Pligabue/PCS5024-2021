{
 "cells": [
  {
   "cell_type": "markdown",
   "id": "425eeb06-1617-4412-bff9-2f4471056170",
   "metadata": {},
   "source": [
    "# Dataset Analysis\n",
    "The *Adult Dataset*, from a 1994 US Census, contains information on a set of citizens, including their age, workclass, final weight, education, marital status, relationship, race, sex, capital gain, capital loss, occupation, work hours per week and native country."
   ]
  },
  {
   "cell_type": "code",
   "execution_count": 1,
   "id": "9423544a-4165-442e-8824-7d1c074dbf20",
   "metadata": {},
   "outputs": [],
   "source": [
    "import pandas as pd\n",
    "import matplotlib.pyplot as plt\n",
    "%matplotlib inline"
   ]
  },
  {
   "cell_type": "code",
   "execution_count": 2,
   "id": "76bca094-b863-44aa-8892-52467506f198",
   "metadata": {},
   "outputs": [
    {
     "data": {
      "text/html": [
       "<div>\n",
       "<style scoped>\n",
       "    .dataframe tbody tr th:only-of-type {\n",
       "        vertical-align: middle;\n",
       "    }\n",
       "\n",
       "    .dataframe tbody tr th {\n",
       "        vertical-align: top;\n",
       "    }\n",
       "\n",
       "    .dataframe thead th {\n",
       "        text-align: right;\n",
       "    }\n",
       "</style>\n",
       "<table border=\"1\" class=\"dataframe\">\n",
       "  <thead>\n",
       "    <tr style=\"text-align: right;\">\n",
       "      <th></th>\n",
       "      <th>age</th>\n",
       "      <th>workclass</th>\n",
       "      <th>fnlwgt</th>\n",
       "      <th>education</th>\n",
       "      <th>education-num</th>\n",
       "      <th>marital-status</th>\n",
       "      <th>occupation</th>\n",
       "      <th>relationship</th>\n",
       "      <th>race</th>\n",
       "      <th>sex</th>\n",
       "      <th>capital-gain</th>\n",
       "      <th>capital-loss</th>\n",
       "      <th>hours-per-week</th>\n",
       "      <th>native-country</th>\n",
       "      <th>class</th>\n",
       "    </tr>\n",
       "  </thead>\n",
       "  <tbody>\n",
       "    <tr>\n",
       "      <th>0</th>\n",
       "      <td>39</td>\n",
       "      <td>State-gov</td>\n",
       "      <td>77516</td>\n",
       "      <td>Bachelors</td>\n",
       "      <td>13</td>\n",
       "      <td>Never-married</td>\n",
       "      <td>Adm-clerical</td>\n",
       "      <td>Not-in-family</td>\n",
       "      <td>White</td>\n",
       "      <td>Male</td>\n",
       "      <td>2174</td>\n",
       "      <td>0</td>\n",
       "      <td>40</td>\n",
       "      <td>United-States</td>\n",
       "      <td>&lt;=50K</td>\n",
       "    </tr>\n",
       "    <tr>\n",
       "      <th>1</th>\n",
       "      <td>50</td>\n",
       "      <td>Self-emp-not-inc</td>\n",
       "      <td>83311</td>\n",
       "      <td>Bachelors</td>\n",
       "      <td>13</td>\n",
       "      <td>Married-civ-spouse</td>\n",
       "      <td>Exec-managerial</td>\n",
       "      <td>Husband</td>\n",
       "      <td>White</td>\n",
       "      <td>Male</td>\n",
       "      <td>0</td>\n",
       "      <td>0</td>\n",
       "      <td>13</td>\n",
       "      <td>United-States</td>\n",
       "      <td>&lt;=50K</td>\n",
       "    </tr>\n",
       "    <tr>\n",
       "      <th>2</th>\n",
       "      <td>38</td>\n",
       "      <td>Private</td>\n",
       "      <td>215646</td>\n",
       "      <td>HS-grad</td>\n",
       "      <td>9</td>\n",
       "      <td>Divorced</td>\n",
       "      <td>Handlers-cleaners</td>\n",
       "      <td>Not-in-family</td>\n",
       "      <td>White</td>\n",
       "      <td>Male</td>\n",
       "      <td>0</td>\n",
       "      <td>0</td>\n",
       "      <td>40</td>\n",
       "      <td>United-States</td>\n",
       "      <td>&lt;=50K</td>\n",
       "    </tr>\n",
       "    <tr>\n",
       "      <th>3</th>\n",
       "      <td>53</td>\n",
       "      <td>Private</td>\n",
       "      <td>234721</td>\n",
       "      <td>11th</td>\n",
       "      <td>7</td>\n",
       "      <td>Married-civ-spouse</td>\n",
       "      <td>Handlers-cleaners</td>\n",
       "      <td>Husband</td>\n",
       "      <td>Black</td>\n",
       "      <td>Male</td>\n",
       "      <td>0</td>\n",
       "      <td>0</td>\n",
       "      <td>40</td>\n",
       "      <td>United-States</td>\n",
       "      <td>&lt;=50K</td>\n",
       "    </tr>\n",
       "    <tr>\n",
       "      <th>4</th>\n",
       "      <td>28</td>\n",
       "      <td>Private</td>\n",
       "      <td>338409</td>\n",
       "      <td>Bachelors</td>\n",
       "      <td>13</td>\n",
       "      <td>Married-civ-spouse</td>\n",
       "      <td>Prof-specialty</td>\n",
       "      <td>Wife</td>\n",
       "      <td>Black</td>\n",
       "      <td>Female</td>\n",
       "      <td>0</td>\n",
       "      <td>0</td>\n",
       "      <td>40</td>\n",
       "      <td>Cuba</td>\n",
       "      <td>&lt;=50K</td>\n",
       "    </tr>\n",
       "  </tbody>\n",
       "</table>\n",
       "</div>"
      ],
      "text/plain": [
       "   age         workclass  fnlwgt  education  education-num  \\\n",
       "0   39         State-gov   77516  Bachelors             13   \n",
       "1   50  Self-emp-not-inc   83311  Bachelors             13   \n",
       "2   38           Private  215646    HS-grad              9   \n",
       "3   53           Private  234721       11th              7   \n",
       "4   28           Private  338409  Bachelors             13   \n",
       "\n",
       "       marital-status         occupation   relationship   race     sex  \\\n",
       "0       Never-married       Adm-clerical  Not-in-family  White    Male   \n",
       "1  Married-civ-spouse    Exec-managerial        Husband  White    Male   \n",
       "2            Divorced  Handlers-cleaners  Not-in-family  White    Male   \n",
       "3  Married-civ-spouse  Handlers-cleaners        Husband  Black    Male   \n",
       "4  Married-civ-spouse     Prof-specialty           Wife  Black  Female   \n",
       "\n",
       "   capital-gain  capital-loss  hours-per-week native-country  class  \n",
       "0          2174             0              40  United-States  <=50K  \n",
       "1             0             0              13  United-States  <=50K  \n",
       "2             0             0              40  United-States  <=50K  \n",
       "3             0             0              40  United-States  <=50K  \n",
       "4             0             0              40           Cuba  <=50K  "
      ]
     },
     "execution_count": 2,
     "metadata": {},
     "output_type": "execute_result"
    }
   ],
   "source": [
    "names = ['age', 'workclass', 'fnlwgt', 'education', 'education-num', 'marital-status', 'occupation', 'relationship', 'race', 'sex', \n",
    "         'capital-gain', 'capital-loss', 'hours-per-week', 'native-country', 'class']\n",
    "\n",
    "adult_df = pd.read_csv(\"data/adult.data\", sep=r\"\\s*,\\s*\", na_values=\"?\", names=names, engine=\"python\", index_col=False)\n",
    "adult_df.head()"
   ]
  },
  {
   "cell_type": "markdown",
   "id": "745936fc-1dff-4ada-aeb6-b3075e895a2a",
   "metadata": {},
   "source": [
    "## Feature Analysis\n",
    "This dataset is comprised of both numeric and categorical values. Moreover, the categorical values cannot be easily converted into numerical, which would be the case if the categories were, for example, \"True\" and \"False\" or \"Low\", \"Medium\" and \"High\". This being the case, to be able to use a KNN classifier, the categorical features were dropped."
   ]
  },
  {
   "cell_type": "code",
   "execution_count": 3,
   "id": "1d1de9d7-a526-45e0-bb77-a41c926a288f",
   "metadata": {},
   "outputs": [
    {
     "data": {
      "text/html": [
       "<div>\n",
       "<style scoped>\n",
       "    .dataframe tbody tr th:only-of-type {\n",
       "        vertical-align: middle;\n",
       "    }\n",
       "\n",
       "    .dataframe tbody tr th {\n",
       "        vertical-align: top;\n",
       "    }\n",
       "\n",
       "    .dataframe thead th {\n",
       "        text-align: right;\n",
       "    }\n",
       "</style>\n",
       "<table border=\"1\" class=\"dataframe\">\n",
       "  <thead>\n",
       "    <tr style=\"text-align: right;\">\n",
       "      <th></th>\n",
       "      <th>age</th>\n",
       "      <th>fnlwgt</th>\n",
       "      <th>education-num</th>\n",
       "      <th>capital-gain</th>\n",
       "      <th>capital-loss</th>\n",
       "      <th>hours-per-week</th>\n",
       "    </tr>\n",
       "  </thead>\n",
       "  <tbody>\n",
       "    <tr>\n",
       "      <th>0</th>\n",
       "      <td>39</td>\n",
       "      <td>77516</td>\n",
       "      <td>13</td>\n",
       "      <td>2174</td>\n",
       "      <td>0</td>\n",
       "      <td>40</td>\n",
       "    </tr>\n",
       "    <tr>\n",
       "      <th>1</th>\n",
       "      <td>50</td>\n",
       "      <td>83311</td>\n",
       "      <td>13</td>\n",
       "      <td>0</td>\n",
       "      <td>0</td>\n",
       "      <td>13</td>\n",
       "    </tr>\n",
       "    <tr>\n",
       "      <th>2</th>\n",
       "      <td>38</td>\n",
       "      <td>215646</td>\n",
       "      <td>9</td>\n",
       "      <td>0</td>\n",
       "      <td>0</td>\n",
       "      <td>40</td>\n",
       "    </tr>\n",
       "    <tr>\n",
       "      <th>3</th>\n",
       "      <td>53</td>\n",
       "      <td>234721</td>\n",
       "      <td>7</td>\n",
       "      <td>0</td>\n",
       "      <td>0</td>\n",
       "      <td>40</td>\n",
       "    </tr>\n",
       "    <tr>\n",
       "      <th>4</th>\n",
       "      <td>28</td>\n",
       "      <td>338409</td>\n",
       "      <td>13</td>\n",
       "      <td>0</td>\n",
       "      <td>0</td>\n",
       "      <td>40</td>\n",
       "    </tr>\n",
       "  </tbody>\n",
       "</table>\n",
       "</div>"
      ],
      "text/plain": [
       "   age  fnlwgt  education-num  capital-gain  capital-loss  hours-per-week\n",
       "0   39   77516             13          2174             0              40\n",
       "1   50   83311             13             0             0              13\n",
       "2   38  215646              9             0             0              40\n",
       "3   53  234721              7             0             0              40\n",
       "4   28  338409             13             0             0              40"
      ]
     },
     "execution_count": 3,
     "metadata": {},
     "output_type": "execute_result"
    }
   ],
   "source": [
    "numeric_names = ['age', 'fnlwgt', 'education-num', 'capital-gain', 'capital-loss', 'hours-per-week']\n",
    "\n",
    "numeric_adult_df = adult_df[numeric_names]\n",
    "numeric_adult_df.head()"
   ]
  },
  {
   "cell_type": "markdown",
   "id": "b9f23493-a812-48f3-be6d-59085bfdb189",
   "metadata": {},
   "source": [
    "The second issue that must be dealt with is the range of each numeric feature, as a difference of 20 in age means something different from a difference of 20 in work hours. To normalize the data, all values are changed to fall within the range of 0 to 1. This is the main dataset used in the KNN classifier."
   ]
  },
  {
   "cell_type": "code",
   "execution_count": 4,
   "id": "3cf11822-a45d-4168-bcda-600361cfe766",
   "metadata": {},
   "outputs": [],
   "source": [
    "from sklearn.preprocessing import MinMaxScaler"
   ]
  },
  {
   "cell_type": "code",
   "execution_count": 5,
   "id": "3e98881f-cde4-48e7-a097-8d456fc9d979",
   "metadata": {},
   "outputs": [
    {
     "data": {
      "text/html": [
       "<div>\n",
       "<style scoped>\n",
       "    .dataframe tbody tr th:only-of-type {\n",
       "        vertical-align: middle;\n",
       "    }\n",
       "\n",
       "    .dataframe tbody tr th {\n",
       "        vertical-align: top;\n",
       "    }\n",
       "\n",
       "    .dataframe thead th {\n",
       "        text-align: right;\n",
       "    }\n",
       "</style>\n",
       "<table border=\"1\" class=\"dataframe\">\n",
       "  <thead>\n",
       "    <tr style=\"text-align: right;\">\n",
       "      <th></th>\n",
       "      <th>age</th>\n",
       "      <th>fnlwgt</th>\n",
       "      <th>education-num</th>\n",
       "      <th>capital-gain</th>\n",
       "      <th>capital-loss</th>\n",
       "      <th>hours-per-week</th>\n",
       "    </tr>\n",
       "  </thead>\n",
       "  <tbody>\n",
       "    <tr>\n",
       "      <th>0</th>\n",
       "      <td>0.301370</td>\n",
       "      <td>0.044302</td>\n",
       "      <td>0.800000</td>\n",
       "      <td>0.02174</td>\n",
       "      <td>0.0</td>\n",
       "      <td>0.397959</td>\n",
       "    </tr>\n",
       "    <tr>\n",
       "      <th>1</th>\n",
       "      <td>0.452055</td>\n",
       "      <td>0.048238</td>\n",
       "      <td>0.800000</td>\n",
       "      <td>0.00000</td>\n",
       "      <td>0.0</td>\n",
       "      <td>0.122449</td>\n",
       "    </tr>\n",
       "    <tr>\n",
       "      <th>2</th>\n",
       "      <td>0.287671</td>\n",
       "      <td>0.138113</td>\n",
       "      <td>0.533333</td>\n",
       "      <td>0.00000</td>\n",
       "      <td>0.0</td>\n",
       "      <td>0.397959</td>\n",
       "    </tr>\n",
       "    <tr>\n",
       "      <th>3</th>\n",
       "      <td>0.493151</td>\n",
       "      <td>0.151068</td>\n",
       "      <td>0.400000</td>\n",
       "      <td>0.00000</td>\n",
       "      <td>0.0</td>\n",
       "      <td>0.397959</td>\n",
       "    </tr>\n",
       "    <tr>\n",
       "      <th>4</th>\n",
       "      <td>0.150685</td>\n",
       "      <td>0.221488</td>\n",
       "      <td>0.800000</td>\n",
       "      <td>0.00000</td>\n",
       "      <td>0.0</td>\n",
       "      <td>0.397959</td>\n",
       "    </tr>\n",
       "  </tbody>\n",
       "</table>\n",
       "</div>"
      ],
      "text/plain": [
       "        age    fnlwgt  education-num  capital-gain  capital-loss  \\\n",
       "0  0.301370  0.044302       0.800000       0.02174           0.0   \n",
       "1  0.452055  0.048238       0.800000       0.00000           0.0   \n",
       "2  0.287671  0.138113       0.533333       0.00000           0.0   \n",
       "3  0.493151  0.151068       0.400000       0.00000           0.0   \n",
       "4  0.150685  0.221488       0.800000       0.00000           0.0   \n",
       "\n",
       "   hours-per-week  \n",
       "0        0.397959  \n",
       "1        0.122449  \n",
       "2        0.397959  \n",
       "3        0.397959  \n",
       "4        0.397959  "
      ]
     },
     "execution_count": 5,
     "metadata": {},
     "output_type": "execute_result"
    }
   ],
   "source": [
    "scaler = MinMaxScaler()\n",
    "scaler.fit(numeric_adult_df) \n",
    "\n",
    "scaled_data = scaler.transform(numeric_adult_df)\n",
    "scaled_adult_df = pd.DataFrame(data=scaled_data, columns=numeric_names)\n",
    "scaled_adult_df.head()"
   ]
  },
  {
   "cell_type": "markdown",
   "id": "9c39d480-a1dd-4e25-8333-44e327afe339",
   "metadata": {},
   "source": [
    "Finally, a discretized version of the numeric dataset is also used as a point of comparison for the scaled dataset, as they both coerce the data into falling within a specific range. The number of groups chosen is 5 and the groups are separated uniformly."
   ]
  },
  {
   "cell_type": "code",
   "execution_count": 6,
   "id": "fd09ecd4-bc92-4c62-8210-bf7d8e6df12d",
   "metadata": {},
   "outputs": [],
   "source": [
    "from sklearn.preprocessing import KBinsDiscretizer"
   ]
  },
  {
   "cell_type": "code",
   "execution_count": 7,
   "id": "d4a0330a-8821-48b2-98c7-952a6ce11b52",
   "metadata": {},
   "outputs": [
    {
     "data": {
      "text/html": [
       "<div>\n",
       "<style scoped>\n",
       "    .dataframe tbody tr th:only-of-type {\n",
       "        vertical-align: middle;\n",
       "    }\n",
       "\n",
       "    .dataframe tbody tr th {\n",
       "        vertical-align: top;\n",
       "    }\n",
       "\n",
       "    .dataframe thead th {\n",
       "        text-align: right;\n",
       "    }\n",
       "</style>\n",
       "<table border=\"1\" class=\"dataframe\">\n",
       "  <thead>\n",
       "    <tr style=\"text-align: right;\">\n",
       "      <th></th>\n",
       "      <th>age</th>\n",
       "      <th>fnlwgt</th>\n",
       "      <th>education-num</th>\n",
       "      <th>capital-gain</th>\n",
       "      <th>capital-loss</th>\n",
       "      <th>hours-per-week</th>\n",
       "    </tr>\n",
       "  </thead>\n",
       "  <tbody>\n",
       "    <tr>\n",
       "      <th>0</th>\n",
       "      <td>1.0</td>\n",
       "      <td>0.0</td>\n",
       "      <td>4.0</td>\n",
       "      <td>0.0</td>\n",
       "      <td>0.0</td>\n",
       "      <td>1.0</td>\n",
       "    </tr>\n",
       "    <tr>\n",
       "      <th>1</th>\n",
       "      <td>2.0</td>\n",
       "      <td>0.0</td>\n",
       "      <td>4.0</td>\n",
       "      <td>0.0</td>\n",
       "      <td>0.0</td>\n",
       "      <td>0.0</td>\n",
       "    </tr>\n",
       "    <tr>\n",
       "      <th>2</th>\n",
       "      <td>1.0</td>\n",
       "      <td>0.0</td>\n",
       "      <td>2.0</td>\n",
       "      <td>0.0</td>\n",
       "      <td>0.0</td>\n",
       "      <td>1.0</td>\n",
       "    </tr>\n",
       "    <tr>\n",
       "      <th>3</th>\n",
       "      <td>2.0</td>\n",
       "      <td>0.0</td>\n",
       "      <td>2.0</td>\n",
       "      <td>0.0</td>\n",
       "      <td>0.0</td>\n",
       "      <td>1.0</td>\n",
       "    </tr>\n",
       "    <tr>\n",
       "      <th>4</th>\n",
       "      <td>0.0</td>\n",
       "      <td>1.0</td>\n",
       "      <td>4.0</td>\n",
       "      <td>0.0</td>\n",
       "      <td>0.0</td>\n",
       "      <td>1.0</td>\n",
       "    </tr>\n",
       "  </tbody>\n",
       "</table>\n",
       "</div>"
      ],
      "text/plain": [
       "   age  fnlwgt  education-num  capital-gain  capital-loss  hours-per-week\n",
       "0  1.0     0.0            4.0           0.0           0.0             1.0\n",
       "1  2.0     0.0            4.0           0.0           0.0             0.0\n",
       "2  1.0     0.0            2.0           0.0           0.0             1.0\n",
       "3  2.0     0.0            2.0           0.0           0.0             1.0\n",
       "4  0.0     1.0            4.0           0.0           0.0             1.0"
      ]
     },
     "execution_count": 7,
     "metadata": {},
     "output_type": "execute_result"
    }
   ],
   "source": [
    "enc = KBinsDiscretizer(n_bins=5, encode='ordinal', strategy=\"uniform\")\n",
    "discretized_data = enc.fit_transform(numeric_adult_df)\n",
    "\n",
    "discretized_adult_df = pd.DataFrame(columns=numeric_names, data=discretized_data)\n",
    "discretized_adult_df.head()"
   ]
  },
  {
   "cell_type": "markdown",
   "id": "4f153994-0565-4476-9f2c-3ba9d7850ca0",
   "metadata": {},
   "source": [
    "## Missing Data\n",
    "\n",
    "To deal with missing data, first we must check the number of missing values per column:"
   ]
  },
  {
   "cell_type": "code",
   "execution_count": 8,
   "id": "3bd4de4e-9e4e-45c9-a894-ef2b0e501955",
   "metadata": {},
   "outputs": [
    {
     "data": {
      "text/plain": [
       "{'age': 0,\n",
       " 'fnlwgt': 0,\n",
       " 'education-num': 0,\n",
       " 'capital-gain': 0,\n",
       " 'capital-loss': 0,\n",
       " 'hours-per-week': 0}"
      ]
     },
     "execution_count": 8,
     "metadata": {},
     "output_type": "execute_result"
    }
   ],
   "source": [
    "{name: numeric_adult_df[name].isna().sum() for name in numeric_names}"
   ]
  },
  {
   "cell_type": "markdown",
   "id": "0620c161-2fde-41bf-b17e-81ae597c4f4b",
   "metadata": {},
   "source": [
    "As there is no missing values in the numeric columns, a solution will not be needed for the KNN classfier."
   ]
  },
  {
   "cell_type": "markdown",
   "id": "41ff17e5-2d3f-4afc-b929-d485c189c1a0",
   "metadata": {},
   "source": [
    "## Test Data"
   ]
  },
  {
   "cell_type": "code",
   "execution_count": 9,
   "id": "2d8a57c5-7504-4d1c-80db-e4ccd8017a22",
   "metadata": {},
   "outputs": [
    {
     "data": {
      "text/html": [
       "<div>\n",
       "<style scoped>\n",
       "    .dataframe tbody tr th:only-of-type {\n",
       "        vertical-align: middle;\n",
       "    }\n",
       "\n",
       "    .dataframe tbody tr th {\n",
       "        vertical-align: top;\n",
       "    }\n",
       "\n",
       "    .dataframe thead th {\n",
       "        text-align: right;\n",
       "    }\n",
       "</style>\n",
       "<table border=\"1\" class=\"dataframe\">\n",
       "  <thead>\n",
       "    <tr style=\"text-align: right;\">\n",
       "      <th></th>\n",
       "      <th>age</th>\n",
       "      <th>workclass</th>\n",
       "      <th>fnlwgt</th>\n",
       "      <th>education</th>\n",
       "      <th>education-num</th>\n",
       "      <th>marital-status</th>\n",
       "      <th>occupation</th>\n",
       "      <th>relationship</th>\n",
       "      <th>race</th>\n",
       "      <th>sex</th>\n",
       "      <th>capital-gain</th>\n",
       "      <th>capital-loss</th>\n",
       "      <th>hours-per-week</th>\n",
       "      <th>native-country</th>\n",
       "      <th>class</th>\n",
       "    </tr>\n",
       "  </thead>\n",
       "  <tbody>\n",
       "    <tr>\n",
       "      <th>0</th>\n",
       "      <td>25</td>\n",
       "      <td>Private</td>\n",
       "      <td>226802</td>\n",
       "      <td>11th</td>\n",
       "      <td>7</td>\n",
       "      <td>Never-married</td>\n",
       "      <td>Machine-op-inspct</td>\n",
       "      <td>Own-child</td>\n",
       "      <td>Black</td>\n",
       "      <td>Male</td>\n",
       "      <td>0</td>\n",
       "      <td>0</td>\n",
       "      <td>40</td>\n",
       "      <td>United-States</td>\n",
       "      <td>&lt;=50K</td>\n",
       "    </tr>\n",
       "    <tr>\n",
       "      <th>1</th>\n",
       "      <td>38</td>\n",
       "      <td>Private</td>\n",
       "      <td>89814</td>\n",
       "      <td>HS-grad</td>\n",
       "      <td>9</td>\n",
       "      <td>Married-civ-spouse</td>\n",
       "      <td>Farming-fishing</td>\n",
       "      <td>Husband</td>\n",
       "      <td>White</td>\n",
       "      <td>Male</td>\n",
       "      <td>0</td>\n",
       "      <td>0</td>\n",
       "      <td>50</td>\n",
       "      <td>United-States</td>\n",
       "      <td>&lt;=50K</td>\n",
       "    </tr>\n",
       "    <tr>\n",
       "      <th>2</th>\n",
       "      <td>28</td>\n",
       "      <td>Local-gov</td>\n",
       "      <td>336951</td>\n",
       "      <td>Assoc-acdm</td>\n",
       "      <td>12</td>\n",
       "      <td>Married-civ-spouse</td>\n",
       "      <td>Protective-serv</td>\n",
       "      <td>Husband</td>\n",
       "      <td>White</td>\n",
       "      <td>Male</td>\n",
       "      <td>0</td>\n",
       "      <td>0</td>\n",
       "      <td>40</td>\n",
       "      <td>United-States</td>\n",
       "      <td>&gt;50K</td>\n",
       "    </tr>\n",
       "    <tr>\n",
       "      <th>3</th>\n",
       "      <td>44</td>\n",
       "      <td>Private</td>\n",
       "      <td>160323</td>\n",
       "      <td>Some-college</td>\n",
       "      <td>10</td>\n",
       "      <td>Married-civ-spouse</td>\n",
       "      <td>Machine-op-inspct</td>\n",
       "      <td>Husband</td>\n",
       "      <td>Black</td>\n",
       "      <td>Male</td>\n",
       "      <td>7688</td>\n",
       "      <td>0</td>\n",
       "      <td>40</td>\n",
       "      <td>United-States</td>\n",
       "      <td>&gt;50K</td>\n",
       "    </tr>\n",
       "    <tr>\n",
       "      <th>4</th>\n",
       "      <td>18</td>\n",
       "      <td>NaN</td>\n",
       "      <td>103497</td>\n",
       "      <td>Some-college</td>\n",
       "      <td>10</td>\n",
       "      <td>Never-married</td>\n",
       "      <td>NaN</td>\n",
       "      <td>Own-child</td>\n",
       "      <td>White</td>\n",
       "      <td>Female</td>\n",
       "      <td>0</td>\n",
       "      <td>0</td>\n",
       "      <td>30</td>\n",
       "      <td>United-States</td>\n",
       "      <td>&lt;=50K</td>\n",
       "    </tr>\n",
       "  </tbody>\n",
       "</table>\n",
       "</div>"
      ],
      "text/plain": [
       "   age  workclass  fnlwgt     education  education-num      marital-status  \\\n",
       "0   25    Private  226802          11th              7       Never-married   \n",
       "1   38    Private   89814       HS-grad              9  Married-civ-spouse   \n",
       "2   28  Local-gov  336951    Assoc-acdm             12  Married-civ-spouse   \n",
       "3   44    Private  160323  Some-college             10  Married-civ-spouse   \n",
       "4   18        NaN  103497  Some-college             10       Never-married   \n",
       "\n",
       "          occupation relationship   race     sex  capital-gain  capital-loss  \\\n",
       "0  Machine-op-inspct    Own-child  Black    Male             0             0   \n",
       "1    Farming-fishing      Husband  White    Male             0             0   \n",
       "2    Protective-serv      Husband  White    Male             0             0   \n",
       "3  Machine-op-inspct      Husband  Black    Male          7688             0   \n",
       "4                NaN    Own-child  White  Female             0             0   \n",
       "\n",
       "   hours-per-week native-country  class  \n",
       "0              40  United-States  <=50K  \n",
       "1              50  United-States  <=50K  \n",
       "2              40  United-States   >50K  \n",
       "3              40  United-States   >50K  \n",
       "4              30  United-States  <=50K  "
      ]
     },
     "execution_count": 9,
     "metadata": {},
     "output_type": "execute_result"
    }
   ],
   "source": [
    "test_df = pd.read_csv(\"data/adult.test\", sep=r\"\\s*,\\s*\", na_values=\"?\", names=names, engine=\"python\", index_col=False, skiprows=1)\n",
    "test_df[\"class\"] = test_df[\"class\"].str.replace(\".\", \"\", regex=False)\n",
    "test_df.head()"
   ]
  },
  {
   "cell_type": "code",
   "execution_count": 10,
   "id": "7ffbb8d6-21a3-4ad1-99c7-df14f444dafb",
   "metadata": {},
   "outputs": [
    {
     "data": {
      "text/html": [
       "<div>\n",
       "<style scoped>\n",
       "    .dataframe tbody tr th:only-of-type {\n",
       "        vertical-align: middle;\n",
       "    }\n",
       "\n",
       "    .dataframe tbody tr th {\n",
       "        vertical-align: top;\n",
       "    }\n",
       "\n",
       "    .dataframe thead th {\n",
       "        text-align: right;\n",
       "    }\n",
       "</style>\n",
       "<table border=\"1\" class=\"dataframe\">\n",
       "  <thead>\n",
       "    <tr style=\"text-align: right;\">\n",
       "      <th></th>\n",
       "      <th>age</th>\n",
       "      <th>fnlwgt</th>\n",
       "      <th>education-num</th>\n",
       "      <th>capital-gain</th>\n",
       "      <th>capital-loss</th>\n",
       "      <th>hours-per-week</th>\n",
       "    </tr>\n",
       "  </thead>\n",
       "  <tbody>\n",
       "    <tr>\n",
       "      <th>0</th>\n",
       "      <td>25</td>\n",
       "      <td>226802</td>\n",
       "      <td>7</td>\n",
       "      <td>0</td>\n",
       "      <td>0</td>\n",
       "      <td>40</td>\n",
       "    </tr>\n",
       "    <tr>\n",
       "      <th>1</th>\n",
       "      <td>38</td>\n",
       "      <td>89814</td>\n",
       "      <td>9</td>\n",
       "      <td>0</td>\n",
       "      <td>0</td>\n",
       "      <td>50</td>\n",
       "    </tr>\n",
       "    <tr>\n",
       "      <th>2</th>\n",
       "      <td>28</td>\n",
       "      <td>336951</td>\n",
       "      <td>12</td>\n",
       "      <td>0</td>\n",
       "      <td>0</td>\n",
       "      <td>40</td>\n",
       "    </tr>\n",
       "    <tr>\n",
       "      <th>3</th>\n",
       "      <td>44</td>\n",
       "      <td>160323</td>\n",
       "      <td>10</td>\n",
       "      <td>7688</td>\n",
       "      <td>0</td>\n",
       "      <td>40</td>\n",
       "    </tr>\n",
       "    <tr>\n",
       "      <th>4</th>\n",
       "      <td>18</td>\n",
       "      <td>103497</td>\n",
       "      <td>10</td>\n",
       "      <td>0</td>\n",
       "      <td>0</td>\n",
       "      <td>30</td>\n",
       "    </tr>\n",
       "  </tbody>\n",
       "</table>\n",
       "</div>"
      ],
      "text/plain": [
       "   age  fnlwgt  education-num  capital-gain  capital-loss  hours-per-week\n",
       "0   25  226802              7             0             0              40\n",
       "1   38   89814              9             0             0              50\n",
       "2   28  336951             12             0             0              40\n",
       "3   44  160323             10          7688             0              40\n",
       "4   18  103497             10             0             0              30"
      ]
     },
     "execution_count": 10,
     "metadata": {},
     "output_type": "execute_result"
    }
   ],
   "source": [
    "numeric_test_df = test_df[numeric_names]\n",
    "numeric_test_df.head()"
   ]
  },
  {
   "cell_type": "code",
   "execution_count": 11,
   "id": "2927dc58-45c0-46d9-9fb1-3a311fbae3c0",
   "metadata": {},
   "outputs": [
    {
     "data": {
      "text/html": [
       "<div>\n",
       "<style scoped>\n",
       "    .dataframe tbody tr th:only-of-type {\n",
       "        vertical-align: middle;\n",
       "    }\n",
       "\n",
       "    .dataframe tbody tr th {\n",
       "        vertical-align: top;\n",
       "    }\n",
       "\n",
       "    .dataframe thead th {\n",
       "        text-align: right;\n",
       "    }\n",
       "</style>\n",
       "<table border=\"1\" class=\"dataframe\">\n",
       "  <thead>\n",
       "    <tr style=\"text-align: right;\">\n",
       "      <th></th>\n",
       "      <th>age</th>\n",
       "      <th>fnlwgt</th>\n",
       "      <th>education-num</th>\n",
       "      <th>capital-gain</th>\n",
       "      <th>capital-loss</th>\n",
       "      <th>hours-per-week</th>\n",
       "    </tr>\n",
       "  </thead>\n",
       "  <tbody>\n",
       "    <tr>\n",
       "      <th>0</th>\n",
       "      <td>0.109589</td>\n",
       "      <td>0.145690</td>\n",
       "      <td>0.400000</td>\n",
       "      <td>0.000000</td>\n",
       "      <td>0.0</td>\n",
       "      <td>0.397959</td>\n",
       "    </tr>\n",
       "    <tr>\n",
       "      <th>1</th>\n",
       "      <td>0.287671</td>\n",
       "      <td>0.052654</td>\n",
       "      <td>0.533333</td>\n",
       "      <td>0.000000</td>\n",
       "      <td>0.0</td>\n",
       "      <td>0.500000</td>\n",
       "    </tr>\n",
       "    <tr>\n",
       "      <th>2</th>\n",
       "      <td>0.150685</td>\n",
       "      <td>0.220498</td>\n",
       "      <td>0.733333</td>\n",
       "      <td>0.000000</td>\n",
       "      <td>0.0</td>\n",
       "      <td>0.397959</td>\n",
       "    </tr>\n",
       "    <tr>\n",
       "      <th>3</th>\n",
       "      <td>0.369863</td>\n",
       "      <td>0.100541</td>\n",
       "      <td>0.600000</td>\n",
       "      <td>0.076881</td>\n",
       "      <td>0.0</td>\n",
       "      <td>0.397959</td>\n",
       "    </tr>\n",
       "    <tr>\n",
       "      <th>4</th>\n",
       "      <td>0.013699</td>\n",
       "      <td>0.061947</td>\n",
       "      <td>0.600000</td>\n",
       "      <td>0.000000</td>\n",
       "      <td>0.0</td>\n",
       "      <td>0.295918</td>\n",
       "    </tr>\n",
       "  </tbody>\n",
       "</table>\n",
       "</div>"
      ],
      "text/plain": [
       "        age    fnlwgt  education-num  capital-gain  capital-loss  \\\n",
       "0  0.109589  0.145690       0.400000      0.000000           0.0   \n",
       "1  0.287671  0.052654       0.533333      0.000000           0.0   \n",
       "2  0.150685  0.220498       0.733333      0.000000           0.0   \n",
       "3  0.369863  0.100541       0.600000      0.076881           0.0   \n",
       "4  0.013699  0.061947       0.600000      0.000000           0.0   \n",
       "\n",
       "   hours-per-week  \n",
       "0        0.397959  \n",
       "1        0.500000  \n",
       "2        0.397959  \n",
       "3        0.397959  \n",
       "4        0.295918  "
      ]
     },
     "execution_count": 11,
     "metadata": {},
     "output_type": "execute_result"
    }
   ],
   "source": [
    "scaled_data = scaler.transform(numeric_test_df)\n",
    "scaled_test_df = pd.DataFrame(data=scaled_data, columns=numeric_names)\n",
    "scaled_test_df.head()"
   ]
  },
  {
   "cell_type": "code",
   "execution_count": 12,
   "id": "83635fc0-e163-4bf6-a4e5-1c4d12a15410",
   "metadata": {},
   "outputs": [
    {
     "data": {
      "text/html": [
       "<div>\n",
       "<style scoped>\n",
       "    .dataframe tbody tr th:only-of-type {\n",
       "        vertical-align: middle;\n",
       "    }\n",
       "\n",
       "    .dataframe tbody tr th {\n",
       "        vertical-align: top;\n",
       "    }\n",
       "\n",
       "    .dataframe thead th {\n",
       "        text-align: right;\n",
       "    }\n",
       "</style>\n",
       "<table border=\"1\" class=\"dataframe\">\n",
       "  <thead>\n",
       "    <tr style=\"text-align: right;\">\n",
       "      <th></th>\n",
       "      <th>age</th>\n",
       "      <th>fnlwgt</th>\n",
       "      <th>education-num</th>\n",
       "      <th>capital-gain</th>\n",
       "      <th>capital-loss</th>\n",
       "      <th>hours-per-week</th>\n",
       "    </tr>\n",
       "  </thead>\n",
       "  <tbody>\n",
       "    <tr>\n",
       "      <th>0</th>\n",
       "      <td>0.0</td>\n",
       "      <td>0.0</td>\n",
       "      <td>2.0</td>\n",
       "      <td>0.0</td>\n",
       "      <td>0.0</td>\n",
       "      <td>1.0</td>\n",
       "    </tr>\n",
       "    <tr>\n",
       "      <th>1</th>\n",
       "      <td>1.0</td>\n",
       "      <td>0.0</td>\n",
       "      <td>2.0</td>\n",
       "      <td>0.0</td>\n",
       "      <td>0.0</td>\n",
       "      <td>2.0</td>\n",
       "    </tr>\n",
       "    <tr>\n",
       "      <th>2</th>\n",
       "      <td>0.0</td>\n",
       "      <td>1.0</td>\n",
       "      <td>3.0</td>\n",
       "      <td>0.0</td>\n",
       "      <td>0.0</td>\n",
       "      <td>1.0</td>\n",
       "    </tr>\n",
       "    <tr>\n",
       "      <th>3</th>\n",
       "      <td>1.0</td>\n",
       "      <td>0.0</td>\n",
       "      <td>3.0</td>\n",
       "      <td>0.0</td>\n",
       "      <td>0.0</td>\n",
       "      <td>1.0</td>\n",
       "    </tr>\n",
       "    <tr>\n",
       "      <th>4</th>\n",
       "      <td>0.0</td>\n",
       "      <td>0.0</td>\n",
       "      <td>3.0</td>\n",
       "      <td>0.0</td>\n",
       "      <td>0.0</td>\n",
       "      <td>1.0</td>\n",
       "    </tr>\n",
       "  </tbody>\n",
       "</table>\n",
       "</div>"
      ],
      "text/plain": [
       "   age  fnlwgt  education-num  capital-gain  capital-loss  hours-per-week\n",
       "0  0.0     0.0            2.0           0.0           0.0             1.0\n",
       "1  1.0     0.0            2.0           0.0           0.0             2.0\n",
       "2  0.0     1.0            3.0           0.0           0.0             1.0\n",
       "3  1.0     0.0            3.0           0.0           0.0             1.0\n",
       "4  0.0     0.0            3.0           0.0           0.0             1.0"
      ]
     },
     "execution_count": 12,
     "metadata": {},
     "output_type": "execute_result"
    }
   ],
   "source": [
    "enc = KBinsDiscretizer(n_bins=5, encode='ordinal', strategy=\"uniform\")\n",
    "discretized_test_data = enc.fit_transform(numeric_test_df)\n",
    "\n",
    "discretized_test_df = pd.DataFrame(columns=numeric_names, data=discretized_test_data)\n",
    "discretized_test_df.head()"
   ]
  },
  {
   "cell_type": "markdown",
   "id": "b40ab658-d5ef-4af8-a2f2-9488fd0d827e",
   "metadata": {},
   "source": [
    "# KNN Classifier"
   ]
  },
  {
   "cell_type": "code",
   "execution_count": 13,
   "id": "646988c8-3c74-4002-bd13-59a374ce3569",
   "metadata": {},
   "outputs": [],
   "source": [
    "from sklearn.neighbors import KNeighborsClassifier\n",
    "from sklearn.model_selection import cross_val_score"
   ]
  },
  {
   "cell_type": "code",
   "execution_count": 14,
   "id": "d545ebac-34f9-4e56-99e7-42210c92f42b",
   "metadata": {},
   "outputs": [],
   "source": [
    "X = scaled_adult_df\n",
    "y = adult_df[\"class\"]\n",
    "\n",
    "test_X = scaled_test_df\n",
    "test_y = test_df[\"class\"]"
   ]
  },
  {
   "cell_type": "markdown",
   "id": "095db52d-7e9b-4ed4-abb5-c218c07e468c",
   "metadata": {},
   "source": [
    "The first test was made using the 3 nearest neighbours:"
   ]
  },
  {
   "cell_type": "code",
   "execution_count": 15,
   "id": "f6152bf9-0553-4249-85bd-736020c1fc05",
   "metadata": {},
   "outputs": [
    {
     "name": "stdout",
     "output_type": "stream",
     "text": [
      "Avg. accuracy with 3-fold validation: 0.7899020136046712\n",
      "Avg. accuracy with 5-fold validation: 0.7909767310964917\n",
      "Avg. accuracy with 10-fold validation: 0.7912224869662696\n"
     ]
    }
   ],
   "source": [
    "neigh = KNeighborsClassifier(n_neighbors=3)\n",
    "\n",
    "for k_fold in [3, 5, 10]:\n",
    "    cross_val_scores = cross_val_score(neigh, X, y, cv=k_fold)\n",
    "    avg_score = sum(cross_val_scores) / k_fold\n",
    "    print(f\"Avg. accuracy with {k_fold}-fold validation: {avg_score}\")"
   ]
  },
  {
   "cell_type": "markdown",
   "id": "5c32d36f-60fb-44d7-a551-048fbae6ab49",
   "metadata": {},
   "source": [
    "Using the 5 nearest neighbours, the average accuracy goes slightly up:"
   ]
  },
  {
   "cell_type": "code",
   "execution_count": 16,
   "id": "f94880f9-f802-4ed1-bcbe-e8b6e369cdd4",
   "metadata": {},
   "outputs": [
    {
     "name": "stdout",
     "output_type": "stream",
     "text": [
      "Avg. accuracy with 3-fold validation: 0.7996376274137319\n",
      "Avg. accuracy with 5-fold validation: 0.8017260131032586\n",
      "Avg. accuracy with 10-fold validation: 0.8020637934247083\n"
     ]
    }
   ],
   "source": [
    "neigh = KNeighborsClassifier(n_neighbors=5)\n",
    "\n",
    "for k_fold in [3, 5, 10]:\n",
    "    cross_val_scores = cross_val_score(neigh, X, y, cv=k_fold)\n",
    "    avg_score = sum(cross_val_scores) / k_fold\n",
    "    print(f\"Avg. accuracy with {k_fold}-fold validation: {avg_score}\")"
   ]
  },
  {
   "cell_type": "markdown",
   "id": "59138dd6-5122-4375-a1b4-96321f080cc2",
   "metadata": {},
   "source": [
    "To estimate the most appropriate value for K (within a specific range), we can compare the accuracy of the model using each K. The range used was 5 to 50 and the accuracy was found using 5-fold cross-validation."
   ]
  },
  {
   "cell_type": "code",
   "execution_count": 17,
   "id": "770ce844-12df-4b8e-ae14-da84ab621397",
   "metadata": {},
   "outputs": [],
   "source": [
    "accuracies = []\n",
    "for k in range(5, 51):\n",
    "    neigh = KNeighborsClassifier(n_neighbors=k)\n",
    "    cross_val_scores = cross_val_score(neigh, X, y, cv=5)\n",
    "    avg_score = sum(cross_val_scores) / 5.0\n",
    "    accuracies.append(avg_score)"
   ]
  },
  {
   "cell_type": "code",
   "execution_count": 18,
   "id": "31816d81-9e64-4157-9458-2ac25696fcf7",
   "metadata": {},
   "outputs": [
    {
     "data": {
      "text/plain": [
       "<AxesSubplot:xlabel='k', ylabel='accuracy'>"
      ]
     },
     "execution_count": 18,
     "metadata": {},
     "output_type": "execute_result"
    },
    {
     "data": {
      "image/png": "[encoded data removed]",
      "text/plain": [
       "<Figure size 432x288 with 1 Axes>"
      ]
     },
     "metadata": {
      "needs_background": "light"
     },
     "output_type": "display_data"
    }
   ],
   "source": [
    "pd.Series(data=accuracies, index=range(5, 51)).plot(xlabel=\"k\", ylabel=\"accuracy\", style=\"o-\", grid=True)"
   ]
  },
  {
   "cell_type": "markdown",
   "id": "468087d4-f709-43c6-a54c-3220ac01c149",
   "metadata": {},
   "source": [
    "The best accuracy was found with:"
   ]
  },
  {
   "cell_type": "code",
   "execution_count": 19,
   "id": "9a14adae-8fbb-4592-8b53-70921fe47e65",
   "metadata": {},
   "outputs": [],
   "source": [
    "k = 39"
   ]
  },
  {
   "cell_type": "markdown",
   "id": "f99f0a0e-583d-4b27-8287-b67da38775ce",
   "metadata": {},
   "source": [
    "With that, the test data can be used to validate the model (holdout method): "
   ]
  },
  {
   "cell_type": "code",
   "execution_count": 20,
   "id": "9d67a76f-76ac-402e-b030-ef5a96c17843",
   "metadata": {},
   "outputs": [
    {
     "data": {
      "text/plain": [
       "KNeighborsClassifier(n_neighbors=39)"
      ]
     },
     "execution_count": 20,
     "metadata": {},
     "output_type": "execute_result"
    }
   ],
   "source": [
    "neigh = KNeighborsClassifier(n_neighbors=k)\n",
    "neigh.fit(X, y)"
   ]
  },
  {
   "cell_type": "code",
   "execution_count": 21,
   "id": "2914082c-273e-4b1b-937e-5b8c0adec9a8",
   "metadata": {},
   "outputs": [],
   "source": [
    "predicted_y = neigh.predict(test_X)"
   ]
  },
  {
   "cell_type": "code",
   "execution_count": 22,
   "id": "b3ecbf4f-15c0-4d3a-a647-3eb1f3a69a39",
   "metadata": {},
   "outputs": [
    {
     "data": {
      "text/html": [
       "<div>\n",
       "<style scoped>\n",
       "    .dataframe tbody tr th:only-of-type {\n",
       "        vertical-align: middle;\n",
       "    }\n",
       "\n",
       "    .dataframe tbody tr th {\n",
       "        vertical-align: top;\n",
       "    }\n",
       "\n",
       "    .dataframe thead th {\n",
       "        text-align: right;\n",
       "    }\n",
       "</style>\n",
       "<table border=\"1\" class=\"dataframe\">\n",
       "  <thead>\n",
       "    <tr style=\"text-align: right;\">\n",
       "      <th></th>\n",
       "      <th>N</th>\n",
       "      <th>%</th>\n",
       "    </tr>\n",
       "  </thead>\n",
       "  <tbody>\n",
       "    <tr>\n",
       "      <th>Correct</th>\n",
       "      <td>13265</td>\n",
       "      <td>81.475339</td>\n",
       "    </tr>\n",
       "    <tr>\n",
       "      <th>Incorrect</th>\n",
       "      <td>3016</td>\n",
       "      <td>18.524661</td>\n",
       "    </tr>\n",
       "    <tr>\n",
       "      <th>Total</th>\n",
       "      <td>16281</td>\n",
       "      <td>100.000000</td>\n",
       "    </tr>\n",
       "  </tbody>\n",
       "</table>\n",
       "</div>"
      ],
      "text/plain": [
       "               N           %\n",
       "Correct    13265   81.475339\n",
       "Incorrect   3016   18.524661\n",
       "Total      16281  100.000000"
      ]
     },
     "execution_count": 22,
     "metadata": {},
     "output_type": "execute_result"
    }
   ],
   "source": [
    "correct = sum(test_y == predicted_y)\n",
    "incorrect = sum(test_y != predicted_y)\n",
    "total = correct + incorrect\n",
    "\n",
    "pd.DataFrame(index=[\"Correct\", \"Incorrect\", \"Total\"], columns=[\"N\", \"%\"],\n",
    "             data=[[correct, 100*correct/total], [incorrect, 100*incorrect/total], [total, 100]])"
   ]
  },
  {
   "cell_type": "markdown",
   "id": "6afc4835-cad6-4ae5-ba65-dc6d35736456",
   "metadata": {},
   "source": [
    "With these results, it is estimated that the accuracy of the model is of 77% (aprox.)."
   ]
  },
  {
   "cell_type": "markdown",
   "id": "ffd568d4-9f55-4282-97d9-68b3fa325f1c",
   "metadata": {},
   "source": [
    "## Accuracy, Precision and Recall"
   ]
  },
  {
   "cell_type": "code",
   "execution_count": 23,
   "id": "11dec399-a825-4baf-8d26-cf9807469e5e",
   "metadata": {},
   "outputs": [],
   "source": [
    "from sklearn.metrics import accuracy_score"
   ]
  },
  {
   "cell_type": "markdown",
   "id": "da48cc82-3423-4513-a13c-f1241fb3ba2c",
   "metadata": {},
   "source": [
    "Considering the target class is \">50K\", it is possible to calculate the true positive, the true negative, the false positive and the false negative ratios:"
   ]
  },
  {
   "cell_type": "code",
   "execution_count": 24,
   "id": "f48113cd-2126-4220-a1e0-c97d05dc95d7",
   "metadata": {},
   "outputs": [
    {
     "data": {
      "text/plain": [
       "{'TP': 1534, 'TN': 11731, 'FP': 704, 'FN': 2312}"
      ]
     },
     "execution_count": 24,
     "metadata": {},
     "output_type": "execute_result"
    }
   ],
   "source": [
    "res = {\n",
    "    \"TP\": test_df[(predicted_y == \">50K\") & (test_df[\"class\"] == \">50K\")].shape[0],\n",
    "    \"TN\": test_df[(predicted_y == \"<=50K\") & (test_df[\"class\"] == \"<=50K\")].shape[0],\n",
    "    \"FP\": test_df[(predicted_y == \">50K\") & (test_df[\"class\"] == \"<=50K\")].shape[0],\n",
    "    \"FN\": test_df[(predicted_y == \"<=50K\") & (test_df[\"class\"] == \">50K\")].shape[0]\n",
    "}\n",
    "res"
   ]
  },
  {
   "cell_type": "markdown",
   "id": "6fedec72-716a-40cf-bd22-56faec4f23c0",
   "metadata": {},
   "source": [
    "With these ratios, the precision, recall and F1-score can be calculated as well:"
   ]
  },
  {
   "cell_type": "code",
   "execution_count": 25,
   "id": "d28bce48-f6e6-4019-af71-23d4d97e24f3",
   "metadata": {},
   "outputs": [
    {
     "data": {
      "text/plain": [
       "{'Precision': 0.6854334226988382,\n",
       " 'Recall': 0.39885595423816955,\n",
       " 'F1-score': 0.5042735042735043,\n",
       " 'Accuracy': 0.8147533935261961}"
      ]
     },
     "execution_count": 25,
     "metadata": {},
     "output_type": "execute_result"
    }
   ],
   "source": [
    "{\n",
    "    \"Precision\": res[\"TP\"]/(res[\"TP\"] + res[\"FP\"]),\n",
    "    \"Recall\": res[\"TP\"]/(res[\"TP\"] + res[\"FN\"]),\n",
    "    \"F1-score\": 2*res[\"TP\"]/(2*res[\"TP\"] + res[\"FP\"] + res[\"FN\"]),\n",
    "    \"Accuracy\": accuracy_score(test_y, predicted_y)\n",
    "}"
   ]
  },
  {
   "cell_type": "markdown",
   "id": "4d04b0c8-7100-4636-bbeb-9e667f37e072",
   "metadata": {},
   "source": [
    "From these results, it is possible to see that the poor precision has a big impact on the overall quality of the model. One way to improve the model is to change the hyperparameters on the KNN classifier so that the features that most correlate with the target class have more influence over the classification."
   ]
  },
  {
   "cell_type": "code",
   "execution_count": 26,
   "id": "b1ff4b49-3cfe-4509-8222-0d08be6432f7",
   "metadata": {},
   "outputs": [
    {
     "data": {
      "text/html": [
       "<div>\n",
       "<style scoped>\n",
       "    .dataframe tbody tr th:only-of-type {\n",
       "        vertical-align: middle;\n",
       "    }\n",
       "\n",
       "    .dataframe tbody tr th {\n",
       "        vertical-align: top;\n",
       "    }\n",
       "\n",
       "    .dataframe thead th {\n",
       "        text-align: right;\n",
       "    }\n",
       "</style>\n",
       "<table border=\"1\" class=\"dataframe\">\n",
       "  <thead>\n",
       "    <tr style=\"text-align: right;\">\n",
       "      <th></th>\n",
       "      <th>age</th>\n",
       "      <th>workclass</th>\n",
       "      <th>fnlwgt</th>\n",
       "      <th>education</th>\n",
       "      <th>education-num</th>\n",
       "      <th>marital-status</th>\n",
       "      <th>occupation</th>\n",
       "      <th>relationship</th>\n",
       "      <th>race</th>\n",
       "      <th>sex</th>\n",
       "      <th>capital-gain</th>\n",
       "      <th>capital-loss</th>\n",
       "      <th>hours-per-week</th>\n",
       "      <th>native-country</th>\n",
       "      <th>class</th>\n",
       "      <th>class_as_number</th>\n",
       "    </tr>\n",
       "  </thead>\n",
       "  <tbody>\n",
       "    <tr>\n",
       "      <th>32556</th>\n",
       "      <td>27</td>\n",
       "      <td>Private</td>\n",
       "      <td>257302</td>\n",
       "      <td>Assoc-acdm</td>\n",
       "      <td>12</td>\n",
       "      <td>Married-civ-spouse</td>\n",
       "      <td>Tech-support</td>\n",
       "      <td>Wife</td>\n",
       "      <td>White</td>\n",
       "      <td>Female</td>\n",
       "      <td>0</td>\n",
       "      <td>0</td>\n",
       "      <td>38</td>\n",
       "      <td>United-States</td>\n",
       "      <td>&lt;=50K</td>\n",
       "      <td>0</td>\n",
       "    </tr>\n",
       "    <tr>\n",
       "      <th>32557</th>\n",
       "      <td>40</td>\n",
       "      <td>Private</td>\n",
       "      <td>154374</td>\n",
       "      <td>HS-grad</td>\n",
       "      <td>9</td>\n",
       "      <td>Married-civ-spouse</td>\n",
       "      <td>Machine-op-inspct</td>\n",
       "      <td>Husband</td>\n",
       "      <td>White</td>\n",
       "      <td>Male</td>\n",
       "      <td>0</td>\n",
       "      <td>0</td>\n",
       "      <td>40</td>\n",
       "      <td>United-States</td>\n",
       "      <td>&gt;50K</td>\n",
       "      <td>1</td>\n",
       "    </tr>\n",
       "    <tr>\n",
       "      <th>32558</th>\n",
       "      <td>58</td>\n",
       "      <td>Private</td>\n",
       "      <td>151910</td>\n",
       "      <td>HS-grad</td>\n",
       "      <td>9</td>\n",
       "      <td>Widowed</td>\n",
       "      <td>Adm-clerical</td>\n",
       "      <td>Unmarried</td>\n",
       "      <td>White</td>\n",
       "      <td>Female</td>\n",
       "      <td>0</td>\n",
       "      <td>0</td>\n",
       "      <td>40</td>\n",
       "      <td>United-States</td>\n",
       "      <td>&lt;=50K</td>\n",
       "      <td>0</td>\n",
       "    </tr>\n",
       "    <tr>\n",
       "      <th>32559</th>\n",
       "      <td>22</td>\n",
       "      <td>Private</td>\n",
       "      <td>201490</td>\n",
       "      <td>HS-grad</td>\n",
       "      <td>9</td>\n",
       "      <td>Never-married</td>\n",
       "      <td>Adm-clerical</td>\n",
       "      <td>Own-child</td>\n",
       "      <td>White</td>\n",
       "      <td>Male</td>\n",
       "      <td>0</td>\n",
       "      <td>0</td>\n",
       "      <td>20</td>\n",
       "      <td>United-States</td>\n",
       "      <td>&lt;=50K</td>\n",
       "      <td>0</td>\n",
       "    </tr>\n",
       "    <tr>\n",
       "      <th>32560</th>\n",
       "      <td>52</td>\n",
       "      <td>Self-emp-inc</td>\n",
       "      <td>287927</td>\n",
       "      <td>HS-grad</td>\n",
       "      <td>9</td>\n",
       "      <td>Married-civ-spouse</td>\n",
       "      <td>Exec-managerial</td>\n",
       "      <td>Wife</td>\n",
       "      <td>White</td>\n",
       "      <td>Female</td>\n",
       "      <td>15024</td>\n",
       "      <td>0</td>\n",
       "      <td>40</td>\n",
       "      <td>United-States</td>\n",
       "      <td>&gt;50K</td>\n",
       "      <td>1</td>\n",
       "    </tr>\n",
       "  </tbody>\n",
       "</table>\n",
       "</div>"
      ],
      "text/plain": [
       "       age     workclass  fnlwgt   education  education-num  \\\n",
       "32556   27       Private  257302  Assoc-acdm             12   \n",
       "32557   40       Private  154374     HS-grad              9   \n",
       "32558   58       Private  151910     HS-grad              9   \n",
       "32559   22       Private  201490     HS-grad              9   \n",
       "32560   52  Self-emp-inc  287927     HS-grad              9   \n",
       "\n",
       "           marital-status         occupation relationship   race     sex  \\\n",
       "32556  Married-civ-spouse       Tech-support         Wife  White  Female   \n",
       "32557  Married-civ-spouse  Machine-op-inspct      Husband  White    Male   \n",
       "32558             Widowed       Adm-clerical    Unmarried  White  Female   \n",
       "32559       Never-married       Adm-clerical    Own-child  White    Male   \n",
       "32560  Married-civ-spouse    Exec-managerial         Wife  White  Female   \n",
       "\n",
       "       capital-gain  capital-loss  hours-per-week native-country  class  \\\n",
       "32556             0             0              38  United-States  <=50K   \n",
       "32557             0             0              40  United-States   >50K   \n",
       "32558             0             0              40  United-States  <=50K   \n",
       "32559             0             0              20  United-States  <=50K   \n",
       "32560         15024             0              40  United-States   >50K   \n",
       "\n",
       "       class_as_number  \n",
       "32556                0  \n",
       "32557                1  \n",
       "32558                0  \n",
       "32559                0  \n",
       "32560                1  "
      ]
     },
     "execution_count": 26,
     "metadata": {},
     "output_type": "execute_result"
    }
   ],
   "source": [
    "correlation_df = adult_df.copy()\n",
    "correlation_df[\"class_as_number\"] = 0\n",
    "correlation_df.loc[correlation_df[\"class\"].str.contains(\">50K\"), \"class_as_number\"] = 1\n",
    "\n",
    "correlation_df.tail()"
   ]
  },
  {
   "cell_type": "code",
   "execution_count": 27,
   "id": "99ddc7ff-c652-466a-ace9-58518fd2f17c",
   "metadata": {},
   "outputs": [],
   "source": [
    "corr = abs(correlation_df.corr())"
   ]
  },
  {
   "cell_type": "code",
   "execution_count": 28,
   "id": "4bce5420-c2a7-48aa-99db-c1492bdd02d6",
   "metadata": {},
   "outputs": [
    {
     "data": {
      "text/plain": [
       "age               0.234037\n",
       "fnlwgt            0.009463\n",
       "education-num     0.335154\n",
       "capital-gain      0.223329\n",
       "capital-loss      0.150526\n",
       "hours-per-week    0.229689\n",
       "Name: class_as_number, dtype: float64"
      ]
     },
     "execution_count": 28,
     "metadata": {},
     "output_type": "execute_result"
    }
   ],
   "source": [
    "weights = corr.loc[\"class_as_number\"][:-1]\n",
    "weights"
   ]
  },
  {
   "cell_type": "code",
   "execution_count": 29,
   "id": "8a39b10a-2cec-4bdb-a368-d3a2cb07b2eb",
   "metadata": {},
   "outputs": [
    {
     "data": {
      "text/html": [
       "<div>\n",
       "<style scoped>\n",
       "    .dataframe tbody tr th:only-of-type {\n",
       "        vertical-align: middle;\n",
       "    }\n",
       "\n",
       "    .dataframe tbody tr th {\n",
       "        vertical-align: top;\n",
       "    }\n",
       "\n",
       "    .dataframe thead th {\n",
       "        text-align: right;\n",
       "    }\n",
       "</style>\n",
       "<table border=\"1\" class=\"dataframe\">\n",
       "  <thead>\n",
       "    <tr style=\"text-align: right;\">\n",
       "      <th></th>\n",
       "      <th>age</th>\n",
       "      <th>fnlwgt</th>\n",
       "      <th>education-num</th>\n",
       "      <th>capital-gain</th>\n",
       "      <th>capital-loss</th>\n",
       "      <th>hours-per-week</th>\n",
       "    </tr>\n",
       "  </thead>\n",
       "  <tbody>\n",
       "    <tr>\n",
       "      <th>0</th>\n",
       "      <td>0.070532</td>\n",
       "      <td>0.000419</td>\n",
       "      <td>0.268123</td>\n",
       "      <td>0.004855</td>\n",
       "      <td>0.0</td>\n",
       "      <td>0.091407</td>\n",
       "    </tr>\n",
       "    <tr>\n",
       "      <th>1</th>\n",
       "      <td>0.105798</td>\n",
       "      <td>0.000456</td>\n",
       "      <td>0.268123</td>\n",
       "      <td>0.000000</td>\n",
       "      <td>0.0</td>\n",
       "      <td>0.028125</td>\n",
       "    </tr>\n",
       "    <tr>\n",
       "      <th>2</th>\n",
       "      <td>0.067326</td>\n",
       "      <td>0.001307</td>\n",
       "      <td>0.178749</td>\n",
       "      <td>0.000000</td>\n",
       "      <td>0.0</td>\n",
       "      <td>0.091407</td>\n",
       "    </tr>\n",
       "    <tr>\n",
       "      <th>3</th>\n",
       "      <td>0.115416</td>\n",
       "      <td>0.001429</td>\n",
       "      <td>0.134062</td>\n",
       "      <td>0.000000</td>\n",
       "      <td>0.0</td>\n",
       "      <td>0.091407</td>\n",
       "    </tr>\n",
       "    <tr>\n",
       "      <th>4</th>\n",
       "      <td>0.035266</td>\n",
       "      <td>0.002096</td>\n",
       "      <td>0.268123</td>\n",
       "      <td>0.000000</td>\n",
       "      <td>0.0</td>\n",
       "      <td>0.091407</td>\n",
       "    </tr>\n",
       "  </tbody>\n",
       "</table>\n",
       "</div>"
      ],
      "text/plain": [
       "        age    fnlwgt  education-num  capital-gain  capital-loss  \\\n",
       "0  0.070532  0.000419       0.268123      0.004855           0.0   \n",
       "1  0.105798  0.000456       0.268123      0.000000           0.0   \n",
       "2  0.067326  0.001307       0.178749      0.000000           0.0   \n",
       "3  0.115416  0.001429       0.134062      0.000000           0.0   \n",
       "4  0.035266  0.002096       0.268123      0.000000           0.0   \n",
       "\n",
       "   hours-per-week  \n",
       "0        0.091407  \n",
       "1        0.028125  \n",
       "2        0.091407  \n",
       "3        0.091407  \n",
       "4        0.091407  "
      ]
     },
     "execution_count": 29,
     "metadata": {},
     "output_type": "execute_result"
    }
   ],
   "source": [
    "weighted_adult_df = scaled_adult_df.copy()\n",
    "weighted_test_df = scaled_test_df.copy()\n",
    "\n",
    "for name in numeric_names:\n",
    "    weighted_adult_df[name] = weighted_adult_df[name] * weights.loc[name]\n",
    "    weighted_test_df[name] = weighted_test_df[name] * weights.loc[name]\n",
    "    \n",
    "weighted_adult_df.head()"
   ]
  },
  {
   "cell_type": "code",
   "execution_count": 30,
   "id": "1cbaad98-4ec6-4420-8b92-735a8262fc62",
   "metadata": {},
   "outputs": [
    {
     "data": {
      "text/html": [
       "<div>\n",
       "<style scoped>\n",
       "    .dataframe tbody tr th:only-of-type {\n",
       "        vertical-align: middle;\n",
       "    }\n",
       "\n",
       "    .dataframe tbody tr th {\n",
       "        vertical-align: top;\n",
       "    }\n",
       "\n",
       "    .dataframe thead th {\n",
       "        text-align: right;\n",
       "    }\n",
       "</style>\n",
       "<table border=\"1\" class=\"dataframe\">\n",
       "  <thead>\n",
       "    <tr style=\"text-align: right;\">\n",
       "      <th></th>\n",
       "      <th>N</th>\n",
       "      <th>%</th>\n",
       "    </tr>\n",
       "  </thead>\n",
       "  <tbody>\n",
       "    <tr>\n",
       "      <th>Correct</th>\n",
       "      <td>13312</td>\n",
       "      <td>81.764019</td>\n",
       "    </tr>\n",
       "    <tr>\n",
       "      <th>Incorrect</th>\n",
       "      <td>2969</td>\n",
       "      <td>18.235981</td>\n",
       "    </tr>\n",
       "    <tr>\n",
       "      <th>Total</th>\n",
       "      <td>16281</td>\n",
       "      <td>100.000000</td>\n",
       "    </tr>\n",
       "  </tbody>\n",
       "</table>\n",
       "</div>"
      ],
      "text/plain": [
       "               N           %\n",
       "Correct    13312   81.764019\n",
       "Incorrect   2969   18.235981\n",
       "Total      16281  100.000000"
      ]
     },
     "execution_count": 30,
     "metadata": {},
     "output_type": "execute_result"
    }
   ],
   "source": [
    "X = weighted_adult_df\n",
    "test_X = weighted_test_df\n",
    "\n",
    "neigh = KNeighborsClassifier(n_neighbors=k)\n",
    "neigh.fit(X, y)\n",
    "\n",
    "predicted_y = neigh.predict(test_X)\n",
    "\n",
    "correct = sum(test_y == predicted_y)\n",
    "incorrect = sum(test_y != predicted_y)\n",
    "total = correct + incorrect\n",
    "\n",
    "pd.DataFrame(index=[\"Correct\", \"Incorrect\", \"Total\"], columns=[\"N\", \"%\"],\n",
    "             data=[[correct, 100*correct/total], [incorrect, 100*incorrect/total], [total, 100]])"
   ]
  },
  {
   "cell_type": "code",
   "execution_count": 31,
   "id": "66d5d7d4-cbee-4cc8-81a6-4bcafbda547f",
   "metadata": {},
   "outputs": [
    {
     "data": {
      "text/plain": [
       "{'TP': 1590, 'TN': 11722, 'FP': 713, 'FN': 2256}"
      ]
     },
     "execution_count": 31,
     "metadata": {},
     "output_type": "execute_result"
    }
   ],
   "source": [
    "res = {\n",
    "    \"TP\": test_df[(predicted_y == \">50K\") & (test_df[\"class\"] == \">50K\")].shape[0],\n",
    "    \"TN\": test_df[(predicted_y == \"<=50K\") & (test_df[\"class\"] == \"<=50K\")].shape[0],\n",
    "    \"FP\": test_df[(predicted_y == \">50K\") & (test_df[\"class\"] == \"<=50K\")].shape[0],\n",
    "    \"FN\": test_df[(predicted_y == \"<=50K\") & (test_df[\"class\"] == \">50K\")].shape[0]\n",
    "}\n",
    "res"
   ]
  },
  {
   "cell_type": "code",
   "execution_count": 32,
   "id": "184ee00c-93df-4ce9-b6e8-7d76cf21cf33",
   "metadata": {},
   "outputs": [
    {
     "data": {
      "text/plain": [
       "{'Precision': 0.6904038211029092,\n",
       " 'Recall': 0.41341653666146644,\n",
       " 'F1-score': 0.5171572613433079,\n",
       " 'Accuracy': 0.8176401940912721}"
      ]
     },
     "execution_count": 32,
     "metadata": {},
     "output_type": "execute_result"
    }
   ],
   "source": [
    "{\n",
    "    \"Precision\": res[\"TP\"]/(res[\"TP\"] + res[\"FP\"]),\n",
    "    \"Recall\": res[\"TP\"]/(res[\"TP\"] + res[\"FN\"]),\n",
    "    \"F1-score\": 2*res[\"TP\"]/(2*res[\"TP\"] + res[\"FP\"] + res[\"FN\"]),\n",
    "    \"Accuracy\": accuracy_score(test_y, predicted_y)\n",
    "}"
   ]
  },
  {
   "cell_type": "markdown",
   "id": "82f5bb0c-d6e0-4167-86b3-5ffc73240131",
   "metadata": {},
   "source": [
    "Using different weights on each feature, the precision was raised to 0.69, the recall was raised to 0.41 and the F1-score was raised to 0.51."
   ]
  },
  {
   "cell_type": "markdown",
   "id": "115bb144-18e0-4e6d-b1db-9b7bd6fbf5df",
   "metadata": {},
   "source": [
    "Finally, as a point of comparison, the discretized data is used:"
   ]
  },
  {
   "cell_type": "code",
   "execution_count": 33,
   "id": "d260014e-061f-42c1-b3d1-fd6c6a8448b4",
   "metadata": {},
   "outputs": [
    {
     "data": {
      "text/html": [
       "<div>\n",
       "<style scoped>\n",
       "    .dataframe tbody tr th:only-of-type {\n",
       "        vertical-align: middle;\n",
       "    }\n",
       "\n",
       "    .dataframe tbody tr th {\n",
       "        vertical-align: top;\n",
       "    }\n",
       "\n",
       "    .dataframe thead th {\n",
       "        text-align: right;\n",
       "    }\n",
       "</style>\n",
       "<table border=\"1\" class=\"dataframe\">\n",
       "  <thead>\n",
       "    <tr style=\"text-align: right;\">\n",
       "      <th></th>\n",
       "      <th>N</th>\n",
       "      <th>%</th>\n",
       "    </tr>\n",
       "  </thead>\n",
       "  <tbody>\n",
       "    <tr>\n",
       "      <th>Correct</th>\n",
       "      <td>13073</td>\n",
       "      <td>80.296051</td>\n",
       "    </tr>\n",
       "    <tr>\n",
       "      <th>Incorrect</th>\n",
       "      <td>3208</td>\n",
       "      <td>19.703949</td>\n",
       "    </tr>\n",
       "    <tr>\n",
       "      <th>Total</th>\n",
       "      <td>16281</td>\n",
       "      <td>100.000000</td>\n",
       "    </tr>\n",
       "  </tbody>\n",
       "</table>\n",
       "</div>"
      ],
      "text/plain": [
       "               N           %\n",
       "Correct    13073   80.296051\n",
       "Incorrect   3208   19.703949\n",
       "Total      16281  100.000000"
      ]
     },
     "execution_count": 33,
     "metadata": {},
     "output_type": "execute_result"
    }
   ],
   "source": [
    "X = discretized_adult_df\n",
    "test_X = discretized_test_df\n",
    "\n",
    "neigh = KNeighborsClassifier(n_neighbors=k)\n",
    "neigh.fit(X, y)\n",
    "\n",
    "predicted_y = neigh.predict(test_X)\n",
    "\n",
    "correct = sum(test_y == predicted_y)\n",
    "incorrect = sum(test_y != predicted_y)\n",
    "total = correct + incorrect\n",
    "\n",
    "pd.DataFrame(index=[\"Correct\", \"Incorrect\", \"Total\"], columns=[\"N\", \"%\"],\n",
    "             data=[[correct, 100*correct/total], [incorrect, 100*incorrect/total], [total, 100]])"
   ]
  },
  {
   "cell_type": "code",
   "execution_count": 34,
   "id": "7e0f74c7-4d71-471c-8d70-ac14b7c79846",
   "metadata": {},
   "outputs": [
    {
     "data": {
      "text/plain": [
       "{'TP': 1408, 'TN': 11665, 'FP': 770, 'FN': 2438}"
      ]
     },
     "execution_count": 34,
     "metadata": {},
     "output_type": "execute_result"
    }
   ],
   "source": [
    "res = {\n",
    "    \"TP\": test_df[(predicted_y == \">50K\") & (test_df[\"class\"] == \">50K\")].shape[0],\n",
    "    \"TN\": test_df[(predicted_y == \"<=50K\") & (test_df[\"class\"] == \"<=50K\")].shape[0],\n",
    "    \"FP\": test_df[(predicted_y == \">50K\") & (test_df[\"class\"] == \"<=50K\")].shape[0],\n",
    "    \"FN\": test_df[(predicted_y == \"<=50K\") & (test_df[\"class\"] == \">50K\")].shape[0]\n",
    "}\n",
    "res"
   ]
  },
  {
   "cell_type": "code",
   "execution_count": 35,
   "id": "ebd1db85-49c7-4521-8cb4-5298f8674278",
   "metadata": {},
   "outputs": [
    {
     "data": {
      "text/plain": [
       "{'Precision': 0.6464646464646465,\n",
       " 'Recall': 0.3660946437857514,\n",
       " 'F1-score': 0.4674634794156706,\n",
       " 'Accuracy': 0.8029605061114182}"
      ]
     },
     "execution_count": 35,
     "metadata": {},
     "output_type": "execute_result"
    }
   ],
   "source": [
    "{\n",
    "    \"Precision\": res[\"TP\"]/(res[\"TP\"] + res[\"FP\"]),\n",
    "    \"Recall\": res[\"TP\"]/(res[\"TP\"] + res[\"FN\"]),\n",
    "    \"F1-score\": 2*res[\"TP\"]/(2*res[\"TP\"] + res[\"FP\"] + res[\"FN\"]),\n",
    "    \"Accuracy\": accuracy_score(test_y, predicted_y)\n",
    "}"
   ]
  },
  {
   "cell_type": "markdown",
   "id": "b17c1fb4-9c61-4795-a6fb-9a7a5d1e02ee",
   "metadata": {},
   "source": [
    "With these results, it seems the model is not an improvement over the normalized dataset's model."
   ]
  },
  {
   "cell_type": "markdown",
   "id": "8ae36932-686b-4a35-bf0a-db9521830b36",
   "metadata": {},
   "source": [
    "# Classification Tree"
   ]
  },
  {
   "cell_type": "code",
   "execution_count": 36,
   "id": "47715563-232c-4d7b-b4e1-ad5e46bc646b",
   "metadata": {},
   "outputs": [],
   "source": [
    "from sklearn.tree import DecisionTreeClassifier"
   ]
  },
  {
   "cell_type": "markdown",
   "id": "a22b90d2-5b15-4b9c-b861-18783b3729a3",
   "metadata": {},
   "source": [
    "While classification trees (or decision trees) can use both numeric and categorical values, **scikit-learn**'s algorithm cannot. With that in mind, the same numeric dataset used in the KNN classifier will also be used with this classifier (although there is no need to scale the values in this case, as this algorithm does not rely on distance between observations)."
   ]
  },
  {
   "cell_type": "code",
   "execution_count": 37,
   "id": "a621f3a1-71da-47b2-b1ee-0cfcc0158234",
   "metadata": {},
   "outputs": [
    {
     "data": {
      "text/html": [
       "<div>\n",
       "<style scoped>\n",
       "    .dataframe tbody tr th:only-of-type {\n",
       "        vertical-align: middle;\n",
       "    }\n",
       "\n",
       "    .dataframe tbody tr th {\n",
       "        vertical-align: top;\n",
       "    }\n",
       "\n",
       "    .dataframe thead th {\n",
       "        text-align: right;\n",
       "    }\n",
       "</style>\n",
       "<table border=\"1\" class=\"dataframe\">\n",
       "  <thead>\n",
       "    <tr style=\"text-align: right;\">\n",
       "      <th></th>\n",
       "      <th>N</th>\n",
       "      <th>%</th>\n",
       "    </tr>\n",
       "  </thead>\n",
       "  <tbody>\n",
       "    <tr>\n",
       "      <th>Correct</th>\n",
       "      <td>12542</td>\n",
       "      <td>77.03458</td>\n",
       "    </tr>\n",
       "    <tr>\n",
       "      <th>Incorrect</th>\n",
       "      <td>3739</td>\n",
       "      <td>22.96542</td>\n",
       "    </tr>\n",
       "    <tr>\n",
       "      <th>Total</th>\n",
       "      <td>16281</td>\n",
       "      <td>100.00000</td>\n",
       "    </tr>\n",
       "  </tbody>\n",
       "</table>\n",
       "</div>"
      ],
      "text/plain": [
       "               N          %\n",
       "Correct    12542   77.03458\n",
       "Incorrect   3739   22.96542\n",
       "Total      16281  100.00000"
      ]
     },
     "execution_count": 37,
     "metadata": {},
     "output_type": "execute_result"
    }
   ],
   "source": [
    "X = numeric_adult_df\n",
    "test_X = numeric_test_df\n",
    "\n",
    "clf = DecisionTreeClassifier()\n",
    "clf.fit(X, y)\n",
    "\n",
    "predicted_y = clf.predict(test_X)\n",
    "\n",
    "correct = sum(test_y == predicted_y)\n",
    "incorrect = sum(test_y != predicted_y)\n",
    "total = correct + incorrect\n",
    "\n",
    "pd.DataFrame(index=[\"Correct\", \"Incorrect\", \"Total\"], columns=[\"N\", \"%\"],\n",
    "             data=[[correct, 100*correct/total], [incorrect, 100*incorrect/total], [total, 100]])"
   ]
  },
  {
   "cell_type": "markdown",
   "id": "7d80b841-2be3-465e-9f74-4f109ea25c46",
   "metadata": {},
   "source": [
    "With these results, it is estimated that the accuracy of the model is of 77% (aprox.), slightly worse than the KNN classifier."
   ]
  },
  {
   "cell_type": "markdown",
   "id": "a9c62fb0-2ec4-4f9b-af08-75fb602fbc29",
   "metadata": {},
   "source": [
    "## Accuracy, Precision and Recall\n",
    "Considering the target class is \">50K\", it is possible to calculate the true positive, the true negative, the false positive and the false negative ratios:"
   ]
  },
  {
   "cell_type": "code",
   "execution_count": 38,
   "id": "021c6e37-2b82-4b90-af44-4aa266763b71",
   "metadata": {},
   "outputs": [
    {
     "data": {
      "text/plain": [
       "{'TP': 2034, 'TN': 10508, 'FP': 1927, 'FN': 1812}"
      ]
     },
     "execution_count": 38,
     "metadata": {},
     "output_type": "execute_result"
    }
   ],
   "source": [
    "res = {\n",
    "    \"TP\": test_df[(predicted_y == \">50K\") & (test_df[\"class\"] == \">50K\")].shape[0],\n",
    "    \"TN\": test_df[(predicted_y == \"<=50K\") & (test_df[\"class\"] == \"<=50K\")].shape[0],\n",
    "    \"FP\": test_df[(predicted_y == \">50K\") & (test_df[\"class\"] == \"<=50K\")].shape[0],\n",
    "    \"FN\": test_df[(predicted_y == \"<=50K\") & (test_df[\"class\"] == \">50K\")].shape[0]\n",
    "}\n",
    "res"
   ]
  },
  {
   "cell_type": "markdown",
   "id": "0c12274d-3f42-4bc4-b995-546762408fe6",
   "metadata": {},
   "source": [
    "With these ratios, the precision, recall and F1-score can be calculated as well:"
   ]
  },
  {
   "cell_type": "code",
   "execution_count": 39,
   "id": "42ed86ef-54fc-4b00-adc9-b64e540c204f",
   "metadata": {},
   "outputs": [
    {
     "data": {
      "text/plain": [
       "{'Precision': 0.5135066902297399,\n",
       " 'Recall': 0.5288611544461779,\n",
       " 'F1-score': 0.5210708338670424,\n",
       " 'Accuracy': 0.770345801854923}"
      ]
     },
     "execution_count": 39,
     "metadata": {},
     "output_type": "execute_result"
    }
   ],
   "source": [
    "{\n",
    "    \"Precision\": res[\"TP\"]/(res[\"TP\"] + res[\"FP\"]),\n",
    "    \"Recall\": res[\"TP\"]/(res[\"TP\"] + res[\"FN\"]),\n",
    "    \"F1-score\": 2*res[\"TP\"]/(2*res[\"TP\"] + res[\"FP\"] + res[\"FN\"]),\n",
    "    \"Accuracy\": accuracy_score(test_y, predicted_y)\n",
    "}"
   ]
  },
  {
   "cell_type": "markdown",
   "id": "5b1d8c2c-492d-42d5-b837-ef2182709596",
   "metadata": {},
   "source": [
    "Hyperparameters can be changed in order to improve the model. For the example below, the minimum number of samples on either side of a split was raised from 1 (default) to 100."
   ]
  },
  {
   "cell_type": "code",
   "execution_count": 40,
   "id": "2e84d591-ad57-47e4-8231-6b803a949b3f",
   "metadata": {},
   "outputs": [
    {
     "data": {
      "text/plain": [
       "{'TP': 1725, 'TN': 11811, 'FP': 624, 'FN': 2121}"
      ]
     },
     "execution_count": 40,
     "metadata": {},
     "output_type": "execute_result"
    }
   ],
   "source": [
    "X = numeric_adult_df\n",
    "test_X = numeric_test_df\n",
    "\n",
    "clf = DecisionTreeClassifier(min_samples_leaf=100)\n",
    "clf.fit(X, y)\n",
    "\n",
    "predicted_y = clf.predict(test_X)\n",
    "\n",
    "correct = sum(test_y == predicted_y)\n",
    "incorrect = sum(test_y != predicted_y)\n",
    "total = correct + incorrect\n",
    "\n",
    "res = {\n",
    "    \"TP\": test_df[(predicted_y == \">50K\") & (test_df[\"class\"] == \">50K\")].shape[0],\n",
    "    \"TN\": test_df[(predicted_y == \"<=50K\") & (test_df[\"class\"] == \"<=50K\")].shape[0],\n",
    "    \"FP\": test_df[(predicted_y == \">50K\") & (test_df[\"class\"] == \"<=50K\")].shape[0],\n",
    "    \"FN\": test_df[(predicted_y == \"<=50K\") & (test_df[\"class\"] == \">50K\")].shape[0]\n",
    "}\n",
    "res"
   ]
  },
  {
   "cell_type": "code",
   "execution_count": 41,
   "id": "0baff11a-04a9-48c3-aa17-f2b565097428",
   "metadata": {},
   "outputs": [
    {
     "data": {
      "text/plain": [
       "{'Precision': 0.7343550446998723,\n",
       " 'Recall': 0.4485179407176287,\n",
       " 'F1-score': 0.5569007263922519,\n",
       " 'Accuracy': 0.8313985627418463}"
      ]
     },
     "execution_count": 41,
     "metadata": {},
     "output_type": "execute_result"
    }
   ],
   "source": [
    "{\n",
    "    \"Precision\": res[\"TP\"]/(res[\"TP\"] + res[\"FP\"]),\n",
    "    \"Recall\": res[\"TP\"]/(res[\"TP\"] + res[\"FN\"]),\n",
    "    \"F1-score\": 2*res[\"TP\"]/(2*res[\"TP\"] + res[\"FP\"] + res[\"FN\"]),\n",
    "    \"Accuracy\": accuracy_score(test_y, predicted_y)\n",
    "}"
   ]
  },
  {
   "cell_type": "markdown",
   "id": "75930b5a-677f-4632-8bd0-61a8951e7fa7",
   "metadata": {},
   "source": [
    "# Multilayer Perceptron"
   ]
  },
  {
   "cell_type": "code",
   "execution_count": 42,
   "id": "d4b1b3d6-9feb-47af-b8ab-ffe7b8e3faf3",
   "metadata": {},
   "outputs": [],
   "source": [
    "from sklearn.neural_network import MLPClassifier"
   ]
  },
  {
   "cell_type": "markdown",
   "id": "8a4e8566-8cf3-45ed-a992-a490dd827ce9",
   "metadata": {},
   "source": [
    "To use the multilayer perceptron classifier, the number of hidden layers and the number of neurons must be chosen, based on the problem at hand. Considering the number of inputs (six numeric features) and the number of outputs (one class, \">50K\"), it was decided that the neural network would have only one hidden layer, with 3 neurons (about the average of inputs and outputs). Due to the level of complexity of the system, this should be enough to produce a model close to as good as possible. Using the initial dataset, the results were not as good as the previous classifiers:"
   ]
  },
  {
   "cell_type": "code",
   "execution_count": 43,
   "id": "0f45f460-bfd8-482f-bcb1-bc54ee404067",
   "metadata": {},
   "outputs": [
    {
     "data": {
      "text/html": [
       "<div>\n",
       "<style scoped>\n",
       "    .dataframe tbody tr th:only-of-type {\n",
       "        vertical-align: middle;\n",
       "    }\n",
       "\n",
       "    .dataframe tbody tr th {\n",
       "        vertical-align: top;\n",
       "    }\n",
       "\n",
       "    .dataframe thead th {\n",
       "        text-align: right;\n",
       "    }\n",
       "</style>\n",
       "<table border=\"1\" class=\"dataframe\">\n",
       "  <thead>\n",
       "    <tr style=\"text-align: right;\">\n",
       "      <th></th>\n",
       "      <th>N</th>\n",
       "      <th>%</th>\n",
       "    </tr>\n",
       "  </thead>\n",
       "  <tbody>\n",
       "    <tr>\n",
       "      <th>Correct</th>\n",
       "      <td>13055</td>\n",
       "      <td>80.185492</td>\n",
       "    </tr>\n",
       "    <tr>\n",
       "      <th>Incorrect</th>\n",
       "      <td>3226</td>\n",
       "      <td>19.814508</td>\n",
       "    </tr>\n",
       "    <tr>\n",
       "      <th>Total</th>\n",
       "      <td>16281</td>\n",
       "      <td>100.000000</td>\n",
       "    </tr>\n",
       "  </tbody>\n",
       "</table>\n",
       "</div>"
      ],
      "text/plain": [
       "               N           %\n",
       "Correct    13055   80.185492\n",
       "Incorrect   3226   19.814508\n",
       "Total      16281  100.000000"
      ]
     },
     "execution_count": 43,
     "metadata": {},
     "output_type": "execute_result"
    }
   ],
   "source": [
    "X = numeric_adult_df\n",
    "test_X = numeric_test_df\n",
    "\n",
    "clf = MLPClassifier(hidden_layer_sizes=3, max_iter=1000, random_state=0)\n",
    "clf.fit(X, y)\n",
    "\n",
    "predicted_y = clf.predict(test_X)\n",
    "\n",
    "correct = sum(test_y == predicted_y)\n",
    "incorrect = sum(test_y != predicted_y)\n",
    "total = correct + incorrect\n",
    "\n",
    "pd.DataFrame(index=[\"Correct\", \"Incorrect\", \"Total\"], columns=[\"N\", \"%\"],\n",
    "             data=[[correct, 100*correct/total], [incorrect, 100*incorrect/total], [total, 100]])"
   ]
  },
  {
   "cell_type": "markdown",
   "id": "9817b431-6128-4e6f-b254-e575d184af98",
   "metadata": {},
   "source": [
    "## Accuracy, Precision and Recall\n",
    "Considering the target class is \">50K\", it is possible to calculate the true positive, the true negative, the false positive and the false negative ratios:"
   ]
  },
  {
   "cell_type": "code",
   "execution_count": 44,
   "id": "7f851873-9222-45d0-81b3-817a406e3048",
   "metadata": {},
   "outputs": [
    {
     "data": {
      "text/plain": [
       "{'TP': 681, 'TN': 12374, 'FP': 61, 'FN': 3165}"
      ]
     },
     "execution_count": 44,
     "metadata": {},
     "output_type": "execute_result"
    }
   ],
   "source": [
    "res = {\n",
    "    \"TP\": test_df[(predicted_y == \">50K\") & (test_df[\"class\"] == \">50K\")].shape[0],\n",
    "    \"TN\": test_df[(predicted_y == \"<=50K\") & (test_df[\"class\"] == \"<=50K\")].shape[0],\n",
    "    \"FP\": test_df[(predicted_y == \">50K\") & (test_df[\"class\"] == \"<=50K\")].shape[0],\n",
    "    \"FN\": test_df[(predicted_y == \"<=50K\") & (test_df[\"class\"] == \">50K\")].shape[0]\n",
    "}\n",
    "res"
   ]
  },
  {
   "cell_type": "code",
   "execution_count": 45,
   "id": "3b1cc1e5-924e-4f58-a8dd-6cd5760749ba",
   "metadata": {},
   "outputs": [
    {
     "data": {
      "text/plain": [
       "{'Precision': 0.9177897574123989,\n",
       " 'Recall': 0.17706708268330734,\n",
       " 'F1-score': 0.2968613775065388,\n",
       " 'Accuracy': 0.8018549229162828}"
      ]
     },
     "execution_count": 45,
     "metadata": {},
     "output_type": "execute_result"
    }
   ],
   "source": [
    "{\n",
    "    \"Precision\": res[\"TP\"]/(res[\"TP\"] + res[\"FP\"]),\n",
    "    \"Recall\": res[\"TP\"]/(res[\"TP\"] + res[\"FN\"]),\n",
    "    \"F1-score\": 2*res[\"TP\"]/(2*res[\"TP\"] + res[\"FP\"] + res[\"FN\"]),\n",
    "    \"Accuracy\": accuracy_score(test_y, predicted_y)\n",
    "}"
   ]
  },
  {
   "cell_type": "markdown",
   "id": "3b5f6f22-eeff-4e05-8779-2d7da991a396",
   "metadata": {},
   "source": [
    "Using the scaled dataset, the results were considerably better and comparable to the previous classifiers:"
   ]
  },
  {
   "cell_type": "code",
   "execution_count": 46,
   "id": "22f7a5d6-da39-4500-96b4-c142537256fa",
   "metadata": {},
   "outputs": [
    {
     "data": {
      "text/html": [
       "<div>\n",
       "<style scoped>\n",
       "    .dataframe tbody tr th:only-of-type {\n",
       "        vertical-align: middle;\n",
       "    }\n",
       "\n",
       "    .dataframe tbody tr th {\n",
       "        vertical-align: top;\n",
       "    }\n",
       "\n",
       "    .dataframe thead th {\n",
       "        text-align: right;\n",
       "    }\n",
       "</style>\n",
       "<table border=\"1\" class=\"dataframe\">\n",
       "  <thead>\n",
       "    <tr style=\"text-align: right;\">\n",
       "      <th></th>\n",
       "      <th>N</th>\n",
       "      <th>%</th>\n",
       "    </tr>\n",
       "  </thead>\n",
       "  <tbody>\n",
       "    <tr>\n",
       "      <th>Correct</th>\n",
       "      <td>13357</td>\n",
       "      <td>82.040415</td>\n",
       "    </tr>\n",
       "    <tr>\n",
       "      <th>Incorrect</th>\n",
       "      <td>2924</td>\n",
       "      <td>17.959585</td>\n",
       "    </tr>\n",
       "    <tr>\n",
       "      <th>Total</th>\n",
       "      <td>16281</td>\n",
       "      <td>100.000000</td>\n",
       "    </tr>\n",
       "  </tbody>\n",
       "</table>\n",
       "</div>"
      ],
      "text/plain": [
       "               N           %\n",
       "Correct    13357   82.040415\n",
       "Incorrect   2924   17.959585\n",
       "Total      16281  100.000000"
      ]
     },
     "execution_count": 46,
     "metadata": {},
     "output_type": "execute_result"
    }
   ],
   "source": [
    "X = scaled_adult_df\n",
    "test_X = scaled_test_df\n",
    "\n",
    "clf = MLPClassifier(hidden_layer_sizes=3, max_iter=1000, random_state=0)\n",
    "clf.fit(X, y)\n",
    "\n",
    "predicted_y = clf.predict(test_X)\n",
    "\n",
    "correct = sum(test_y == predicted_y)\n",
    "incorrect = sum(test_y != predicted_y)\n",
    "total = correct + incorrect\n",
    "\n",
    "pd.DataFrame(index=[\"Correct\", \"Incorrect\", \"Total\"], columns=[\"N\", \"%\"],\n",
    "             data=[[correct, 100*correct/total], [incorrect, 100*incorrect/total], [total, 100]])"
   ]
  },
  {
   "cell_type": "code",
   "execution_count": 47,
   "id": "55daaa58-ba64-46d7-9ca1-3eb475b34122",
   "metadata": {},
   "outputs": [
    {
     "data": {
      "text/plain": [
       "{'TP': 1781, 'TN': 11576, 'FP': 859, 'FN': 2065}"
      ]
     },
     "execution_count": 47,
     "metadata": {},
     "output_type": "execute_result"
    }
   ],
   "source": [
    "res = {\n",
    "    \"TP\": test_df[(predicted_y == \">50K\") & (test_df[\"class\"] == \">50K\")].shape[0],\n",
    "    \"TN\": test_df[(predicted_y == \"<=50K\") & (test_df[\"class\"] == \"<=50K\")].shape[0],\n",
    "    \"FP\": test_df[(predicted_y == \">50K\") & (test_df[\"class\"] == \"<=50K\")].shape[0],\n",
    "    \"FN\": test_df[(predicted_y == \"<=50K\") & (test_df[\"class\"] == \">50K\")].shape[0]\n",
    "}\n",
    "res"
   ]
  },
  {
   "cell_type": "markdown",
   "id": "266b1291-7d00-4dbc-b54d-0b92de91ce64",
   "metadata": {},
   "source": [
    "With these ratios, the precision, recall and F1-score can be calculated as well:"
   ]
  },
  {
   "cell_type": "code",
   "execution_count": 48,
   "id": "31047e5b-771a-4c46-95dd-e70cfc73514f",
   "metadata": {},
   "outputs": [
    {
     "data": {
      "text/plain": [
       "{'Precision': 0.6746212121212121,\n",
       " 'Recall': 0.4630785231409256,\n",
       " 'F1-score': 0.5491828553808202,\n",
       " 'Accuracy': 0.8204041520791107}"
      ]
     },
     "execution_count": 48,
     "metadata": {},
     "output_type": "execute_result"
    }
   ],
   "source": [
    "{\n",
    "    \"Precision\": res[\"TP\"]/(res[\"TP\"] + res[\"FP\"]),\n",
    "    \"Recall\": res[\"TP\"]/(res[\"TP\"] + res[\"FN\"]),\n",
    "    \"F1-score\": 2*res[\"TP\"]/(2*res[\"TP\"] + res[\"FP\"] + res[\"FN\"]),\n",
    "    \"Accuracy\": accuracy_score(test_y, predicted_y)\n",
    "}"
   ]
  },
  {
   "cell_type": "markdown",
   "id": "c45bbadf-3ffb-467c-ad1d-6086909a70d4",
   "metadata": {},
   "source": [
    "Still, the main drawback of these models is the high number of false negatives. As they currently stand, the KNN model is still the best."
   ]
  }
 ],
 "metadata": {
  "kernelspec": {
   "display_name": "Python 3",
   "language": "python",
   "name": "python3"
  },
  "language_info": {
   "codemirror_mode": {
    "name": "ipython",
    "version": 3
   },
   "file_extension": ".py",
   "mimetype": "text/x-python",
   "name": "python",
   "nbconvert_exporter": "python",
   "pygments_lexer": "ipython3",
   "version": "3.7.7"
  }
 },
 "nbformat": 4,
 "nbformat_minor": 5
}
